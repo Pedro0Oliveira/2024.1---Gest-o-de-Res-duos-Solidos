{
  "nbformat": 4,
  "nbformat_minor": 0,
  "metadata": {
    "colab": {
      "provenance": [],
      "authorship_tag": "ABX9TyORRv8JjhjGjeQSqm9+t1i5",
      "include_colab_link": true
    },
    "kernelspec": {
      "name": "python3",
      "display_name": "Python 3"
    },
    "language_info": {
      "name": "python"
    }
  },
  "cells": [
    {
      "cell_type": "markdown",
      "metadata": {
        "id": "view-in-github",
        "colab_type": "text"
      },
      "source": [
        "<a href=\"https://colab.research.google.com/github/Pedro0Oliveira/2024.1-TrabalhoN1_Tema2_Questionario_para_otimizacao_da_coleta/blob/main/Atividade_05_contagem.ipynb\" target=\"_parent\"><img src=\"https://colab.research.google.com/assets/colab-badge.svg\" alt=\"Open In Colab\"/></a>"
      ]
    },
    {
      "cell_type": "code",
      "execution_count": null,
      "metadata": {
        "id": "eX6BQ8w5j7BL",
        "colab": {
          "base_uri": "https://localhost:8080/"
        },
        "outputId": "9012de67-0d05-42d2-dfd0-b1923174275c"
      },
      "outputs": [
        {
          "output_type": "stream",
          "name": "stdout",
          "text": [
            "2\n"
          ]
        }
      ],
      "source": [
        "def contar_palavra(arquivo, palavra):\n",
        "  palavra = 'lobo'\n",
        "  arquivo = ['lobo', 'lobo', 'cajú', 'acerola', 'beijos', 'beijos']\n",
        "\n",
        "  return int(arquivo.count(palavra))\n",
        "\n",
        "arquivo = ['lobo', 'lobo', 'cajú', 'acerola', 'beijos', 'beijos']\n",
        "palavra = 'lobo'\n",
        "print(contar_palavra(arquivo, palavra))"
      ]
    }
  ]
}